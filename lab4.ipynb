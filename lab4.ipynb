{
 "cells": [
  {
   "cell_type": "code",
   "execution_count": 1,
   "id": "3349ede6",
   "metadata": {},
   "outputs": [],
   "source": [
    "import pandas\n",
    "import configparser\n",
    "import psycopg2"
   ]
  },
  {
   "cell_type": "code",
   "execution_count": 2,
   "id": "76c48c68",
   "metadata": {},
   "outputs": [],
   "source": [
    "config=configparser.ConfigParser()\n",
    "config.read('config.ini')\n",
    "\n",
    "host=config['myaws']['host']\n",
    "db=config['myaws']['db']\n",
    "user=config['myaws']['user']\n",
    "pwd=config['myaws']['pwd']"
   ]
  },
  {
   "cell_type": "code",
   "execution_count": 3,
   "id": "0be99dcc",
   "metadata": {},
   "outputs": [],
   "source": [
    "conn=psycopg2.connect(\n",
    "                        host=host,\n",
    "                        user=user,\n",
    "                        password=pwd,\n",
    "                        dbname=db)"
   ]
  },
  {
   "cell_type": "markdown",
   "id": "8cdacea7",
   "metadata": {},
   "source": [
    "# 3.1"
   ]
  },
  {
   "cell_type": "code",
   "execution_count": 4,
   "id": "cf0cd8fc",
   "metadata": {},
   "outputs": [],
   "source": [
    "sql=\"select * from student\""
   ]
  },
  {
   "cell_type": "code",
   "execution_count": 6,
   "id": "08454315",
   "metadata": {},
   "outputs": [
    {
     "name": "stderr",
     "output_type": "stream",
     "text": [
      "/tmp/ipykernel_8750/2417332674.py:1: UserWarning: pandas only supports SQLAlchemy connectable (engine/connection) or database string URI or sqlite3 DBAPI2 connection. Other DBAPI2 objects are not tested. Please consider using SQLAlchemy.\n",
      "  df=pandas.read_sql_query(sql,conn)\n"
     ]
    },
    {
     "data": {
      "text/html": [
       "<div>\n",
       "<style scoped>\n",
       "    .dataframe tbody tr th:only-of-type {\n",
       "        vertical-align: middle;\n",
       "    }\n",
       "\n",
       "    .dataframe tbody tr th {\n",
       "        vertical-align: top;\n",
       "    }\n",
       "\n",
       "    .dataframe thead th {\n",
       "        text-align: right;\n",
       "    }\n",
       "</style>\n",
       "<table border=\"1\" class=\"dataframe\">\n",
       "  <thead>\n",
       "    <tr style=\"text-align: right;\">\n",
       "      <th></th>\n",
       "      <th>s_email</th>\n",
       "      <th>s_name</th>\n",
       "      <th>major</th>\n",
       "    </tr>\n",
       "  </thead>\n",
       "  <tbody>\n",
       "    <tr>\n",
       "      <th>0</th>\n",
       "      <td>s1@jmu.edu</td>\n",
       "      <td>s1</td>\n",
       "      <td>IA</td>\n",
       "    </tr>\n",
       "    <tr>\n",
       "      <th>1</th>\n",
       "      <td>s2@jmu.edu</td>\n",
       "      <td>s2</td>\n",
       "      <td>IA</td>\n",
       "    </tr>\n",
       "    <tr>\n",
       "      <th>2</th>\n",
       "      <td>s3@jmu.edu</td>\n",
       "      <td>s3</td>\n",
       "      <td>ISAT</td>\n",
       "    </tr>\n",
       "    <tr>\n",
       "      <th>3</th>\n",
       "      <td>s4@jmu.edu</td>\n",
       "      <td>s4</td>\n",
       "      <td>ISAT</td>\n",
       "    </tr>\n",
       "    <tr>\n",
       "      <th>4</th>\n",
       "      <td>s5@jmu.edu</td>\n",
       "      <td>s5</td>\n",
       "      <td>IA</td>\n",
       "    </tr>\n",
       "  </tbody>\n",
       "</table>\n",
       "</div>"
      ],
      "text/plain": [
       "      s_email s_name major\n",
       "0  s1@jmu.edu     s1    IA\n",
       "1  s2@jmu.edu     s2    IA\n",
       "2  s3@jmu.edu     s3  ISAT\n",
       "3  s4@jmu.edu     s4  ISAT\n",
       "4  s5@jmu.edu     s5    IA"
      ]
     },
     "execution_count": 6,
     "metadata": {},
     "output_type": "execute_result"
    }
   ],
   "source": [
    "df=pandas.read_sql_query(sql,conn)\n",
    "df[:]"
   ]
  },
  {
   "cell_type": "markdown",
   "id": "48b1bc3b",
   "metadata": {},
   "source": [
    "# 3.2"
   ]
  },
  {
   "cell_type": "code",
   "execution_count": 7,
   "id": "4a746df9",
   "metadata": {},
   "outputs": [],
   "source": [
    "sql=\"\"\"\n",
    "select professor.p_name, course.c_name\n",
    "from professor\n",
    "inner join course\n",
    "on professor.p_email = course.p_email\n",
    "\"\"\""
   ]
  },
  {
   "cell_type": "code",
   "execution_count": 8,
   "id": "19ad3801",
   "metadata": {},
   "outputs": [
    {
     "name": "stderr",
     "output_type": "stream",
     "text": [
      "/tmp/ipykernel_8750/2417332674.py:1: UserWarning: pandas only supports SQLAlchemy connectable (engine/connection) or database string URI or sqlite3 DBAPI2 connection. Other DBAPI2 objects are not tested. Please consider using SQLAlchemy.\n",
      "  df=pandas.read_sql_query(sql,conn)\n"
     ]
    },
    {
     "data": {
      "text/html": [
       "<div>\n",
       "<style scoped>\n",
       "    .dataframe tbody tr th:only-of-type {\n",
       "        vertical-align: middle;\n",
       "    }\n",
       "\n",
       "    .dataframe tbody tr th {\n",
       "        vertical-align: top;\n",
       "    }\n",
       "\n",
       "    .dataframe thead th {\n",
       "        text-align: right;\n",
       "    }\n",
       "</style>\n",
       "<table border=\"1\" class=\"dataframe\">\n",
       "  <thead>\n",
       "    <tr style=\"text-align: right;\">\n",
       "      <th></th>\n",
       "      <th>p_name</th>\n",
       "      <th>c_name</th>\n",
       "    </tr>\n",
       "  </thead>\n",
       "  <tbody>\n",
       "    <tr>\n",
       "      <th>0</th>\n",
       "      <td>p2</td>\n",
       "      <td>mongodb</td>\n",
       "    </tr>\n",
       "    <tr>\n",
       "      <th>1</th>\n",
       "      <td>p3</td>\n",
       "      <td>facebook</td>\n",
       "    </tr>\n",
       "    <tr>\n",
       "      <th>2</th>\n",
       "      <td>p3</td>\n",
       "      <td>postgresql</td>\n",
       "    </tr>\n",
       "    <tr>\n",
       "      <th>3</th>\n",
       "      <td>p3</td>\n",
       "      <td>twitter</td>\n",
       "    </tr>\n",
       "  </tbody>\n",
       "</table>\n",
       "</div>"
      ],
      "text/plain": [
       "  p_name      c_name\n",
       "0     p2     mongodb\n",
       "1     p3    facebook\n",
       "2     p3  postgresql\n",
       "3     p3     twitter"
      ]
     },
     "execution_count": 8,
     "metadata": {},
     "output_type": "execute_result"
    }
   ],
   "source": [
    "df=pandas.read_sql_query(sql,conn)\n",
    "df[:]"
   ]
  },
  {
   "cell_type": "markdown",
   "id": "f6e23186",
   "metadata": {},
   "source": [
    "# 3.3"
   ]
  },
  {
   "cell_type": "code",
   "execution_count": 11,
   "id": "b149ea73",
   "metadata": {},
   "outputs": [],
   "source": [
    "sql=\"\"\"\n",
    "select c_number,count(*) as num_student\n",
    "from enroll\n",
    "group by c_number\n",
    "order by num_student desc\n",
    "\"\"\""
   ]
  },
  {
   "cell_type": "code",
   "execution_count": 15,
   "id": "41694b98",
   "metadata": {},
   "outputs": [
    {
     "name": "stderr",
     "output_type": "stream",
     "text": [
      "/tmp/ipykernel_8750/2130638689.py:1: UserWarning: pandas only supports SQLAlchemy connectable (engine/connection) or database string URI or sqlite3 DBAPI2 connection. Other DBAPI2 objects are not tested. Please consider using SQLAlchemy.\n",
      "  df=pandas.read_sql_query(sql,conn)\n"
     ]
    },
    {
     "data": {
      "text/plain": [
       "<Axes: xlabel='c_number'>"
      ]
     },
     "execution_count": 15,
     "metadata": {},
     "output_type": "execute_result"
    },
    {
     "data": {
      "image/png": "[encoded data removed]",
      "text/plain": [
       "<Figure size 640x480 with 1 Axes>"
      ]
     },
     "metadata": {},
     "output_type": "display_data"
    }
   ],
   "source": [
    "df=pandas.read_sql_query(sql,conn)\n",
    "df.plot.bar(x='c_number',y='num_student')"
   ]
  },
  {
   "cell_type": "markdown",
   "id": "0e13648b",
   "metadata": {},
   "source": [
    "# 3.4"
   ]
  },
  {
   "cell_type": "code",
   "execution_count": 16,
   "id": "1875de7e",
   "metadata": {},
   "outputs": [],
   "source": [
    "sql=\"\"\"\n",
    "select professor.p_name, count(course.c_number) as num_courses_taught\n",
    "from professor\n",
    "inner join course on professor.p_email = course.p_email\n",
    "group by professor.p_name\n",
    "order by num_courses_taught desc\n",
    "\"\"\""
   ]
  },
  {
   "cell_type": "code",
   "execution_count": 17,
   "id": "0316c25a",
   "metadata": {},
   "outputs": [
    {
     "name": "stderr",
     "output_type": "stream",
     "text": [
      "/tmp/ipykernel_8750/1405216886.py:1: UserWarning: pandas only supports SQLAlchemy connectable (engine/connection) or database string URI or sqlite3 DBAPI2 connection. Other DBAPI2 objects are not tested. Please consider using SQLAlchemy.\n",
      "  df=pandas.read_sql_query(sql,conn)\n"
     ]
    },
    {
     "data": {
      "text/plain": [
       "<Axes: xlabel='p_name'>"
      ]
     },
     "execution_count": 17,
     "metadata": {},
     "output_type": "execute_result"
    },
    {
     "data": {
      "image/png": "[encoded data removed]",
      "text/plain": [
       "<Figure size 640x480 with 1 Axes>"
      ]
     },
     "metadata": {},
     "output_type": "display_data"
    }
   ],
   "source": [
    "df=pandas.read_sql_query(sql,conn)\n",
    "df.plot.bar(x='p_name',y='num_courses_taught')"
   ]
  },
  {
   "cell_type": "markdown",
   "id": "c0fb8fbc",
   "metadata": {},
   "source": [
    "# 3.5"
   ]
  },
  {
   "cell_type": "code",
   "execution_count": 25,
   "id": "6c9ff062",
   "metadata": {},
   "outputs": [],
   "source": [
    "cur=conn.cursor()"
   ]
  },
  {
   "cell_type": "code",
   "execution_count": 26,
   "id": "cd7edf29",
   "metadata": {},
   "outputs": [],
   "source": [
    "sql=\"\"\"\n",
    "insert into professor(p_email,p_name,office)\n",
    "values('p4@jmu.edu','p4','o4')\n",
    "\"\"\""
   ]
  },
  {
   "cell_type": "code",
   "execution_count": 27,
   "id": "7eb5da1f",
   "metadata": {},
   "outputs": [],
   "source": [
    "cur.execute(sql)"
   ]
  },
  {
   "cell_type": "code",
   "execution_count": 28,
   "id": "cf382c85",
   "metadata": {},
   "outputs": [
    {
     "name": "stderr",
     "output_type": "stream",
     "text": [
      "/tmp/ipykernel_8750/3906800274.py:1: UserWarning: pandas only supports SQLAlchemy connectable (engine/connection) or database string URI or sqlite3 DBAPI2 connection. Other DBAPI2 objects are not tested. Please consider using SQLAlchemy.\n",
      "  df=pandas.read_sql_query('select * from professor',conn)\n"
     ]
    },
    {
     "data": {
      "text/html": [
       "<div>\n",
       "<style scoped>\n",
       "    .dataframe tbody tr th:only-of-type {\n",
       "        vertical-align: middle;\n",
       "    }\n",
       "\n",
       "    .dataframe tbody tr th {\n",
       "        vertical-align: top;\n",
       "    }\n",
       "\n",
       "    .dataframe thead th {\n",
       "        text-align: right;\n",
       "    }\n",
       "</style>\n",
       "<table border=\"1\" class=\"dataframe\">\n",
       "  <thead>\n",
       "    <tr style=\"text-align: right;\">\n",
       "      <th></th>\n",
       "      <th>p_email</th>\n",
       "      <th>p_name</th>\n",
       "      <th>office</th>\n",
       "    </tr>\n",
       "  </thead>\n",
       "  <tbody>\n",
       "    <tr>\n",
       "      <th>0</th>\n",
       "      <td>p2@jmu.edu</td>\n",
       "      <td>p2</td>\n",
       "      <td>o2</td>\n",
       "    </tr>\n",
       "    <tr>\n",
       "      <th>1</th>\n",
       "      <td>p3@jmu.edu</td>\n",
       "      <td>p3</td>\n",
       "      <td>o3</td>\n",
       "    </tr>\n",
       "    <tr>\n",
       "      <th>2</th>\n",
       "      <td>p4@jmu.edu</td>\n",
       "      <td>p4</td>\n",
       "      <td>o4</td>\n",
       "    </tr>\n",
       "  </tbody>\n",
       "</table>\n",
       "</div>"
      ],
      "text/plain": [
       "      p_email p_name office\n",
       "0  p2@jmu.edu     p2     o2\n",
       "1  p3@jmu.edu     p3     o3\n",
       "2  p4@jmu.edu     p4     o4"
      ]
     },
     "execution_count": 28,
     "metadata": {},
     "output_type": "execute_result"
    }
   ],
   "source": [
    "df=pandas.read_sql_query('select * from professor',conn)\n",
    "df[:]"
   ]
  },
  {
   "cell_type": "code",
   "execution_count": 29,
   "id": "e63a32f4",
   "metadata": {},
   "outputs": [],
   "source": [
    "sql=\"\"\"\n",
    "insert into course(c_number,c_name,room,p_email)\n",
    "values('c5','linkedin','r2','p4@jmu.edu')\n",
    "\"\"\""
   ]
  },
  {
   "cell_type": "code",
   "execution_count": 30,
   "id": "4d2ee10f",
   "metadata": {},
   "outputs": [],
   "source": [
    "cur.execute(sql)"
   ]
  },
  {
   "cell_type": "code",
   "execution_count": 31,
   "id": "6ffb1d81",
   "metadata": {},
   "outputs": [
    {
     "name": "stderr",
     "output_type": "stream",
     "text": [
      "/tmp/ipykernel_8750/12676786.py:1: UserWarning: pandas only supports SQLAlchemy connectable (engine/connection) or database string URI or sqlite3 DBAPI2 connection. Other DBAPI2 objects are not tested. Please consider using SQLAlchemy.\n",
      "  df=pandas.read_sql_query('select * from course',conn)\n"
     ]
    },
    {
     "data": {
      "text/html": [
       "<div>\n",
       "<style scoped>\n",
       "    .dataframe tbody tr th:only-of-type {\n",
       "        vertical-align: middle;\n",
       "    }\n",
       "\n",
       "    .dataframe tbody tr th {\n",
       "        vertical-align: top;\n",
       "    }\n",
       "\n",
       "    .dataframe thead th {\n",
       "        text-align: right;\n",
       "    }\n",
       "</style>\n",
       "<table border=\"1\" class=\"dataframe\">\n",
       "  <thead>\n",
       "    <tr style=\"text-align: right;\">\n",
       "      <th></th>\n",
       "      <th>c_number</th>\n",
       "      <th>c_name</th>\n",
       "      <th>room</th>\n",
       "      <th>p_email</th>\n",
       "    </tr>\n",
       "  </thead>\n",
       "  <tbody>\n",
       "    <tr>\n",
       "      <th>0</th>\n",
       "      <td>c2</td>\n",
       "      <td>mongodb</td>\n",
       "      <td>r2</td>\n",
       "      <td>p2@jmu.edu</td>\n",
       "    </tr>\n",
       "    <tr>\n",
       "      <th>1</th>\n",
       "      <td>c4</td>\n",
       "      <td>facebook</td>\n",
       "      <td>r1</td>\n",
       "      <td>p3@jmu.edu</td>\n",
       "    </tr>\n",
       "    <tr>\n",
       "      <th>2</th>\n",
       "      <td>c1</td>\n",
       "      <td>postgresql</td>\n",
       "      <td>r1</td>\n",
       "      <td>p3@jmu.edu</td>\n",
       "    </tr>\n",
       "    <tr>\n",
       "      <th>3</th>\n",
       "      <td>c3</td>\n",
       "      <td>twitter</td>\n",
       "      <td>r1</td>\n",
       "      <td>p3@jmu.edu</td>\n",
       "    </tr>\n",
       "    <tr>\n",
       "      <th>4</th>\n",
       "      <td>c5</td>\n",
       "      <td>linkedin</td>\n",
       "      <td>r2</td>\n",
       "      <td>p4@jmu.edu</td>\n",
       "    </tr>\n",
       "  </tbody>\n",
       "</table>\n",
       "</div>"
      ],
      "text/plain": [
       "  c_number      c_name room     p_email\n",
       "0       c2     mongodb   r2  p2@jmu.edu\n",
       "1       c4    facebook   r1  p3@jmu.edu\n",
       "2       c1  postgresql   r1  p3@jmu.edu\n",
       "3       c3     twitter   r1  p3@jmu.edu\n",
       "4       c5    linkedin   r2  p4@jmu.edu"
      ]
     },
     "execution_count": 31,
     "metadata": {},
     "output_type": "execute_result"
    }
   ],
   "source": [
    "df=pandas.read_sql_query('select * from course',conn)\n",
    "df[:]"
   ]
  },
  {
   "cell_type": "markdown",
   "id": "e94fea9c",
   "metadata": {},
   "source": []
  }
 ],
 "metadata": {
  "kernelspec": {
   "display_name": "conda_python3",
   "language": "python",
   "name": "conda_python3"
  },
  "language_info": {
   "codemirror_mode": {
    "name": "ipython",
    "version": 3
   },
   "file_extension": ".py",
   "mimetype": "text/x-python",
   "name": "python",
   "nbconvert_exporter": "python",
   "pygments_lexer": "ipython3",
   "version": "3.10.12"
  }
 },
 "nbformat": 4,
 "nbformat_minor": 5
}
